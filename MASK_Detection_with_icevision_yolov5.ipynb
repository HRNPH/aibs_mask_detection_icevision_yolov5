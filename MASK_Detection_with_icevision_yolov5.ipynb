{
  "cells": [
    {
      "cell_type": "markdown",
      "metadata": {
        "id": "view-in-github",
        "colab_type": "text"
      },
      "source": [
        "<a href=\"https://colab.research.google.com/github/thepbordin/aibs_mask_detection_icevision_yolov5/blob/main/MASK_Detection_with_icevision_yolov5.ipynb\" target=\"_parent\"><img src=\"https://colab.research.google.com/assets/colab-badge.svg\" alt=\"Open In Colab\"/></a>"
      ]
    },
    {
      "cell_type": "markdown",
      "metadata": {
        "id": "tDqKafel8YYC"
      },
      "source": [
        "#🧊 IceVision + SAHI: Mask Detection ด้วย YOLOv5 แบบง่ายมากๆ\n",
        "\n",
        "โปรเจ็คนี้ถูกสร้างขึ้นเพื่อเป็นตัวอย่างในการสอนการใช้งาน IceVision-Yolov5 ของค่าย [AI-Builders](https://ai-builders.github.io/)\n",
        "\n",
        "โดยใช้ชุดข้อมูลจาก kaggle [FaceMask-Detection](https://www.kaggle.com/datasets/andrewmvd/face-mask-detection) โดย Larxel\n",
        "\n",
        "Notebook นี้ ถูกนำมาปรัปปรุงเพื่อการสอนจาก [IceVision + SAHI](https://github.com/obss/sahi) Notebook.\n",
        "\n",
        "จัดทำและเรียบเรียงโดย [HRNPH](https://github.com/HRNPH) และ [Thepbordin](https://github.com/thepbordin) Ai Builders Gen 2 (2022)"
      ]
    },
    {
      "cell_type": "markdown",
      "source": [
        "# 1. ทำการติดตั้ง Icevision + SAHI"
      ],
      "metadata": {
        "id": "CASzIQ41mK9E"
      }
    },
    {
      "cell_type": "code",
      "source": [
        "import subprocess #เอาไว้ใช้เช็ค GPU"
      ],
      "metadata": {
        "id": "oh_dDigsjd0j"
      },
      "execution_count": 1,
      "outputs": []
    },
    {
      "cell_type": "markdown",
      "metadata": {
        "id": "kdTu6jSe6Ouq"
      },
      "source": [
        "**ติดตั้ง Library ที่ต้องการจากทางไหนได้บ้าง?** (เลือกวิธีใดวิธีหนึ่ง)\n",
        "\n",
        "\n",
        "*   Script สำเร็จรูปที่รวบรวม Library จาก Icevision (แบบง่ายที่สุด)\n",
        "*   ลง Library ด้วยตนเองทีละตัว (ช้าและเรียนรู้มากที่สุด)\n",
        "\n",
        "\n",
        "ติดตั้ง Library ต่างๆจาก pypi... ใช้ wget เพื่อโหลดไฟล์ Scripts มารัน(pip install ลงเองทีละตัวก็ได้ อันนี้ก็ใช้ pip แต่แบบนี้เร็วกว่า)"
      ]
    },
    {
      "cell_type": "markdown",
      "source": [
        "### ใช้ Script เพื่อลง Library"
      ],
      "metadata": {
        "id": "1UqBkEY1X6ob"
      }
    },
    {
      "cell_type": "code",
      "source": [
        "# Torch - Torchvision - IceVision - IceData - MMDetection - YOLOv5 - EfficientDet Installation\n",
        "!wget https://raw.githubusercontent.com/airctic/icevision/master/icevision_install.sh"
      ],
      "metadata": {
        "colab": {
          "base_uri": "https://localhost:8080/"
        },
        "id": "e3kYrnASknWg",
        "outputId": "0f3f9c37-3abb-4eeb-b112-74e2e170bf6b"
      },
      "execution_count": 2,
      "outputs": [
        {
          "output_type": "stream",
          "name": "stdout",
          "text": [
            "--2022-07-13 04:01:35--  https://raw.githubusercontent.com/airctic/icevision/master/icevision_install.sh\n",
            "Resolving raw.githubusercontent.com (raw.githubusercontent.com)... 185.199.108.133, 185.199.109.133, 185.199.110.133, ...\n",
            "Connecting to raw.githubusercontent.com (raw.githubusercontent.com)|185.199.108.133|:443... connected.\n",
            "HTTP request sent, awaiting response... 200 OK\n",
            "Length: 2766 (2.7K) [text/plain]\n",
            "Saving to: ‘icevision_install.sh’\n",
            "\n",
            "\ricevision_install.s   0%[                    ]       0  --.-KB/s               \ricevision_install.s 100%[===================>]   2.70K  --.-KB/s    in 0s      \n",
            "\n",
            "2022-07-13 04:01:35 (41.4 MB/s) - ‘icevision_install.sh’ saved [2766/2766]\n",
            "\n"
          ]
        }
      ]
    },
    {
      "cell_type": "code",
      "execution_count": 3,
      "metadata": {
        "colab": {
          "base_uri": "https://localhost:8080/"
        },
        "id": "Hj0HbxBKVZzr",
        "outputId": "76a19269-a9f7-4078-d7e0-a8f1caf7830b"
      },
      "outputs": [
        {
          "output_type": "stream",
          "name": "stdout",
          "text": [
            "มี GPU!\n",
            "ทำการติดตั้งสำหรับ CUDA 11 เพื่อใช้งาน GPU\n",
            "Installing icevision + dependencices for cuda11\n",
            "- Installing torch and its dependencies\n",
            "Looking in indexes: https://pypi.org/simple, https://us-python.pkg.dev/colab-wheels/public/simple/\n",
            "Looking in links: https://download.pytorch.org/whl/torch_stable.html\n",
            "Collecting torch==1.10.0+cu111\n",
            "  Downloading https://download.pytorch.org/whl/cu111/torch-1.10.0%2Bcu111-cp37-cp37m-linux_x86_64.whl (2137.6 MB)\n",
            "\u001b[K     |████████████▌                   | 834.1 MB 1.3 MB/s eta 0:16:12tcmalloc: large alloc 1147494400 bytes == 0x39cea000 @  0x7f9d5b336615 0x592b76 0x4df71e 0x59afff 0x515655 0x549576 0x593fce 0x548ae9 0x51566f 0x549576 0x593fce 0x548ae9 0x5127f1 0x598e3b 0x511f68 0x598e3b 0x511f68 0x598e3b 0x511f68 0x4bc98a 0x532e76 0x594b72 0x515600 0x549576 0x593fce 0x548ae9 0x5127f1 0x549576 0x593fce 0x5118f8 0x593dd7\n",
            "\u001b[K     |███████████████▉                | 1055.7 MB 1.2 MB/s eta 0:15:06tcmalloc: large alloc 1434370048 bytes == 0x7e340000 @  0x7f9d5b336615 0x592b76 0x4df71e 0x59afff 0x515655 0x549576 0x593fce 0x548ae9 0x51566f 0x549576 0x593fce 0x548ae9 0x5127f1 0x598e3b 0x511f68 0x598e3b 0x511f68 0x598e3b 0x511f68 0x4bc98a 0x532e76 0x594b72 0x515600 0x549576 0x593fce 0x548ae9 0x5127f1 0x549576 0x593fce 0x5118f8 0x593dd7\n",
            "\u001b[K     |████████████████████            | 1336.2 MB 1.3 MB/s eta 0:10:29tcmalloc: large alloc 1792966656 bytes == 0x3172000 @  0x7f9d5b336615 0x592b76 0x4df71e 0x59afff 0x515655 0x549576 0x593fce 0x548ae9 0x51566f 0x549576 0x593fce 0x548ae9 0x5127f1 0x598e3b 0x511f68 0x598e3b 0x511f68 0x598e3b 0x511f68 0x4bc98a 0x532e76 0x594b72 0x515600 0x549576 0x593fce 0x548ae9 0x5127f1 0x549576 0x593fce 0x5118f8 0x593dd7\n",
            "\u001b[K     |█████████████████████████▎      | 1691.1 MB 1.3 MB/s eta 0:05:46tcmalloc: large alloc 2241208320 bytes == 0x6df5a000 @  0x7f9d5b336615 0x592b76 0x4df71e 0x59afff 0x515655 0x549576 0x593fce 0x548ae9 0x51566f 0x549576 0x593fce 0x548ae9 0x5127f1 0x598e3b 0x511f68 0x598e3b 0x511f68 0x598e3b 0x511f68 0x4bc98a 0x532e76 0x594b72 0x515600 0x549576 0x593fce 0x548ae9 0x5127f1 0x549576 0x593fce 0x5118f8 0x593dd7\n",
            "\u001b[K     |████████████████████████████████| 2137.6 MB 1.2 MB/s eta 0:00:01tcmalloc: large alloc 2137645056 bytes == 0xf38bc000 @  0x7f9d5b3351e7 0x4a3940 0x4a39cc 0x592b76 0x4df71e 0x59afff 0x515655 0x549576 0x593fce 0x511e2c 0x549576 0x593fce 0x511e2c 0x549576 0x593fce 0x511e2c 0x549576 0x593fce 0x511e2c 0x549576 0x593fce 0x511e2c 0x593dd7 0x511e2c 0x549576 0x593fce 0x548ae9 0x5127f1 0x549576 0x593fce 0x548ae9\n",
            "tcmalloc: large alloc 2672058368 bytes == 0x172f5a000 @  0x7f9d5b336615 0x592b76 0x4df71e 0x59afff 0x515655 0x549576 0x593fce 0x511e2c 0x549576 0x593fce 0x511e2c 0x549576 0x593fce 0x511e2c 0x549576 0x593fce 0x511e2c 0x549576 0x593fce 0x511e2c 0x593dd7 0x511e2c 0x549576 0x593fce 0x548ae9 0x5127f1 0x549576 0x593fce 0x548ae9 0x5127f1 0x549576\n",
            "\u001b[K     |████████████████████████████████| 2137.6 MB 398 bytes/s \n",
            "\u001b[?25hCollecting torchvision==0.11.1+cu111\n",
            "  Downloading https://download.pytorch.org/whl/cu111/torchvision-0.11.1%2Bcu111-cp37-cp37m-linux_x86_64.whl (24.5 MB)\n",
            "\u001b[K     |████████████████████████████████| 24.5 MB 1.5 MB/s \n",
            "\u001b[?25hRequirement already satisfied: typing-extensions in /usr/local/lib/python3.7/dist-packages (from torch==1.10.0+cu111) (4.1.1)\n",
            "Requirement already satisfied: numpy in /usr/local/lib/python3.7/dist-packages (from torchvision==0.11.1+cu111) (1.21.6)\n",
            "Requirement already satisfied: pillow!=8.3.0,>=5.3.0 in /usr/local/lib/python3.7/dist-packages (from torchvision==0.11.1+cu111) (7.1.2)\n",
            "Installing collected packages: torch, torchvision\n",
            "  Attempting uninstall: torch\n",
            "    Found existing installation: torch 1.12.0+cu113\n",
            "    Uninstalling torch-1.12.0+cu113:\n",
            "      Successfully uninstalled torch-1.12.0+cu113\n",
            "  Attempting uninstall: torchvision\n",
            "    Found existing installation: torchvision 0.13.0+cu113\n",
            "    Uninstalling torchvision-0.13.0+cu113:\n",
            "      Successfully uninstalled torchvision-0.13.0+cu113\n",
            "\u001b[31mERROR: pip's dependency resolver does not currently take into account all the packages that are installed. This behaviour is the source of the following dependency conflicts.\n",
            "torchtext 0.13.0 requires torch==1.12.0, but you have torch 1.10.0+cu111 which is incompatible.\n",
            "torchaudio 0.12.0+cu113 requires torch==1.12.0, but you have torch 1.10.0+cu111 which is incompatible.\u001b[0m\n",
            "Successfully installed torch-1.10.0+cu111 torchvision-0.11.1+cu111\n",
            "- Installing mmcv\n",
            "\u001b[K     |████████████████████████████████| 51.3 MB 1.3 MB/s \n",
            "\u001b[K     |████████████████████████████████| 190 kB 39.5 MB/s \n",
            "\u001b[?25h- Installing mmdet\n",
            "\u001b[K     |████████████████████████████████| 1.2 MB 18.2 MB/s \n",
            "\u001b[?25h- Installing mmseg\n",
            "\u001b[K     |████████████████████████████████| 686 kB 35.5 MB/s \n",
            "\u001b[?25h- Installing icevision from PyPi\n",
            "\u001b[K     |████████████████████████████████| 262 kB 30.7 MB/s \n",
            "\u001b[K     |████████████████████████████████| 55 kB 4.3 MB/s \n",
            "\u001b[K     |████████████████████████████████| 95 kB 2.1 MB/s \n",
            "\u001b[K     |████████████████████████████████| 98 kB 9.2 MB/s \n",
            "\u001b[K     |████████████████████████████████| 58 kB 6.7 MB/s \n",
            "\u001b[K     |████████████████████████████████| 798 kB 47.9 MB/s \n",
            "\u001b[K     |████████████████████████████████| 111 kB 67.8 MB/s \n",
            "\u001b[K     |████████████████████████████████| 3.1 MB 51.5 MB/s \n",
            "\u001b[K     |████████████████████████████████| 49 kB 5.3 MB/s \n",
            "\u001b[K     |████████████████████████████████| 585 kB 56.2 MB/s \n",
            "\u001b[K     |████████████████████████████████| 1.8 MB 47.7 MB/s \n",
            "\u001b[K     |████████████████████████████████| 188 kB 70.1 MB/s \n",
            "\u001b[K     |████████████████████████████████| 48.3 MB 1.8 MB/s \n",
            "\u001b[K     |████████████████████████████████| 512 kB 75.3 MB/s \n",
            "\u001b[K     |████████████████████████████████| 79 kB 7.3 MB/s \n",
            "\u001b[K     |████████████████████████████████| 596 kB 72.1 MB/s \n",
            "\u001b[K     |████████████████████████████████| 117 kB 68.7 MB/s \n",
            "\u001b[K     |████████████████████████████████| 140 kB 55.3 MB/s \n",
            "\u001b[K     |████████████████████████████████| 419 kB 74.4 MB/s \n",
            "\u001b[K     |████████████████████████████████| 1.1 MB 49.4 MB/s \n",
            "\u001b[K     |████████████████████████████████| 154 kB 74.9 MB/s \n",
            "\u001b[K     |████████████████████████████████| 42 kB 946 kB/s \n",
            "\u001b[K     |████████████████████████████████| 50 kB 6.6 MB/s \n",
            "\u001b[K     |████████████████████████████████| 87 kB 7.6 MB/s \n",
            "\u001b[K     |████████████████████████████████| 97 kB 6.3 MB/s \n",
            "\u001b[K     |████████████████████████████████| 60.9 MB 75.6 MB/s \n",
            "\u001b[K     |████████████████████████████████| 146 kB 56.3 MB/s \n",
            "\u001b[K     |████████████████████████████████| 181 kB 61.9 MB/s \n",
            "\u001b[K     |████████████████████████████████| 63 kB 1.9 MB/s \n",
            "\u001b[K     |████████████████████████████████| 271 kB 71.0 MB/s \n",
            "\u001b[K     |████████████████████████████████| 144 kB 70.9 MB/s \n",
            "\u001b[K     |████████████████████████████████| 94 kB 3.9 MB/s \n",
            "\u001b[?25h  Building wheel for antlr4-python3-runtime (setup.py) ... \u001b[?25l\u001b[?25hdone\n",
            "  Building wheel for fire (setup.py) ... \u001b[?25l\u001b[?25hdone\n",
            "  Building wheel for fvcore (setup.py) ... \u001b[?25l\u001b[?25hdone\n",
            "  Building wheel for iopath (setup.py) ... \u001b[?25l\u001b[?25hdone\n",
            "  Building wheel for pathtools (setup.py) ... \u001b[?25l\u001b[?25hdone\n",
            "\u001b[31mERROR: pip's dependency resolver does not currently take into account all the packages that are installed. This behaviour is the source of the following dependency conflicts.\n",
            "flask 1.1.4 requires click<8.0,>=5.1, but you have click 8.0.4 which is incompatible.\u001b[0m\n",
            "- Installing icedata from PyPi\n",
            "Looking in indexes: https://pypi.org/simple, https://us-python.pkg.dev/colab-wheels/public/simple/\n",
            "Collecting opencv-python-headless==4.1.2.30\n",
            "  Downloading opencv_python_headless-4.1.2.30-cp37-cp37m-manylinux1_x86_64.whl (21.8 MB)\n",
            "\u001b[K     |████████████████████████████████| 21.8 MB 1.3 MB/s \n",
            "\u001b[?25hRequirement already satisfied: numpy>=1.14.5 in /usr/local/lib/python3.7/dist-packages (from opencv-python-headless==4.1.2.30) (1.21.6)\n",
            "Installing collected packages: opencv-python-headless\n",
            "  Attempting uninstall: opencv-python-headless\n",
            "    Found existing installation: opencv-python-headless 4.6.0.66\n",
            "    Uninstalling opencv-python-headless-4.6.0.66:\n",
            "      Successfully uninstalled opencv-python-headless-4.6.0.66\n",
            "Successfully installed opencv-python-headless-4.1.2.30\n",
            "icevision installation finished!\n"
          ]
        }
      ],
      "source": [
        "try: # เช็คว่ามี GPU รึเปล่า\n",
        "    subprocess.check_output('nvidia-smi')\n",
        "    print('มี GPU!')\n",
        "    print('ทำการติดตั้งสำหรับ CUDA 11 เพื่อใช้งาน GPU')\n",
        "    process = 'cuda11'    \n",
        "\n",
        "except Exception: # ถ้าไม่มี\n",
        "    print('ไม่มี GPU ลงเวอร์ชั่น CPU!')\n",
        "    process = 'cpu'   \n",
        "\n",
        "!bash icevision_install.sh {process} #เรียกใช้งาน Script"
      ]
    },
    {
      "cell_type": "markdown",
      "source": [
        "### หรือจะลง Library ด้วยตนเองทีละตัว\n",
        "อื้ม! กลับไปใช้ Scripts เถอะ แต่รู้เอาไว้ไม่เสียหายนะครับ"
      ],
      "metadata": {
        "id": "_Gv1UK5qj6eA"
      }
    },
    {
      "cell_type": "code",
      "source": [
        "# Comments ไว้จะได้ไม่ต้องลงทับกัน\n",
        "# !pip install torch==1.10.0+cu102 torchvision==0.11.1+cu102 -f https://download.pytorch.org/whl/torch_stable.html --upgrade -q\n",
        "# !pip install mmcv-full==1.3.17 -f https://download.openmmlab.com/mmcv/dist/cu102/torch1.10.0/index.html --upgrade -q\n",
        "# !pip install torch==1.10.0+cu111 torchvision==0.11.1+cu111 -f https://download.pytorch.org/whl/torch_stable.html --upgrade\n",
        "# !pip install mmcv-full==1.3.17 -f https://download.openmmlab.com/mmcv/dist/cu111/torch1.10.0/index.html --upgrade -q  \n",
        "# !pip install torch==\"1.10.0+cpu\" torchvision==\"0.11.1+cpu\" -f https://download.pytorch.org/whl/torch_stable.html  \n",
        "# !pip install mmcv-full==\"1.3.17\" -f https://download.openmmlab.com/mmcv/dist/cpu/torch1.10.0/index.html --upgrade -q\n",
        "# !pip install mmdet==2.17.0 --upgrade -q\n",
        "# !pip install mmsegmentation==0.20.2 --upgrade -q\n",
        "# !pip install git+https://github.com/airctic/icevision.git#egg=icevision[all] --upgrade -q\n",
        "# !pip install git+https://github.com/airctic/icedata.git --upgrade -q\n",
        "# !pip install icevision[all] --upgrade -q\n",
        "# !pip install icedata --upgrade -q\n",
        "# !pip install opencv-python-headless==4.1.2.30"
      ],
      "metadata": {
        "id": "2jTuuNXxj59T"
      },
      "execution_count": 14,
      "outputs": []
    },
    {
      "cell_type": "markdown",
      "metadata": {
        "id": "rTWr5rcM7mPp"
      },
      "source": [
        "### ติดตั้ง SAHI ด้วย Package Installer for Python ซึ่งก็คือ (pip)\n",
        "`-q` (quiet) เพื่อไม่ให้แสดง logs จาก code จะได้ไม่รกจอ *แต่ถ้าอยากรู้ว่ารกยังไงก็ลองลบดู*"
      ]
    },
    {
      "cell_type": "code",
      "execution_count": null,
      "metadata": {
        "id": "6Dcx19SY7ljA"
      },
      "outputs": [],
      "source": [
        "!pip install sahi -q"
      ]
    },
    {
      "cell_type": "markdown",
      "metadata": {
        "id": "kU_l4NWE9ThE"
      },
      "source": [
        "### Imports Library หลักๆที่ต้องใช้ (IceVision)\n",
        "\n",
        "\n",
        "`* ` คือ เอาตัวแปรทั้งหมดใน icevision.all มาเลย (ปกติจะไม่ทำกัน เพราะเดี๋ยวชื่อตัวแปรจะทับกัน แต่ IceVision ออกแบบมาให้ทำได้)"
      ]
    },
    {
      "cell_type": "code",
      "execution_count": 6,
      "metadata": {
        "colab": {
          "base_uri": "https://localhost:8080/",
          "height": 311
        },
        "id": "9UqkDXXfXDnE",
        "outputId": "873d6c4a-9cb6-4b91-a100-16c4c21e6e31"
      },
      "outputs": [
        {
          "output_type": "error",
          "ename": "OSError",
          "evalue": "ignored",
          "traceback": [
            "\u001b[0;31m---------------------------------------------------------------------------\u001b[0m",
            "\u001b[0;31mOSError\u001b[0m                                   Traceback (most recent call last)",
            "\u001b[0;32m<ipython-input-6-2dc2b878494d>\u001b[0m in \u001b[0;36m<module>\u001b[0;34m()\u001b[0m\n\u001b[0;32m----> 1\u001b[0;31m \u001b[0;32mfrom\u001b[0m \u001b[0micevision\u001b[0m\u001b[0;34m.\u001b[0m\u001b[0mall\u001b[0m \u001b[0;32mimport\u001b[0m \u001b[0;34m*\u001b[0m\u001b[0;34m\u001b[0m\u001b[0;34m\u001b[0m\u001b[0m\n\u001b[0m",
            "\u001b[0;32m/usr/local/lib/python3.7/dist-packages/icevision/__init__.py\u001b[0m in \u001b[0;36m<module>\u001b[0;34m()\u001b[0m\n\u001b[0;32m----> 1\u001b[0;31m \u001b[0;32mfrom\u001b[0m \u001b[0micevision\u001b[0m\u001b[0;34m.\u001b[0m\u001b[0mutils\u001b[0m \u001b[0;32mimport\u001b[0m \u001b[0;34m*\u001b[0m\u001b[0;34m\u001b[0m\u001b[0;34m\u001b[0m\u001b[0m\n\u001b[0m\u001b[1;32m      2\u001b[0m \u001b[0;32mfrom\u001b[0m \u001b[0micevision\u001b[0m\u001b[0;34m.\u001b[0m\u001b[0mcore\u001b[0m \u001b[0;32mimport\u001b[0m \u001b[0;34m*\u001b[0m\u001b[0;34m\u001b[0m\u001b[0;34m\u001b[0m\u001b[0m\n\u001b[1;32m      3\u001b[0m \u001b[0;32mfrom\u001b[0m \u001b[0micevision\u001b[0m \u001b[0;32mimport\u001b[0m \u001b[0mparsers\u001b[0m\u001b[0;34m\u001b[0m\u001b[0;34m\u001b[0m\u001b[0m\n\u001b[1;32m      4\u001b[0m \u001b[0;32mfrom\u001b[0m \u001b[0micevision\u001b[0m \u001b[0;32mimport\u001b[0m \u001b[0mtfms\u001b[0m\u001b[0;34m\u001b[0m\u001b[0;34m\u001b[0m\u001b[0m\n\u001b[1;32m      5\u001b[0m \u001b[0;32mfrom\u001b[0m \u001b[0micevision\u001b[0m\u001b[0;34m.\u001b[0m\u001b[0mdata\u001b[0m \u001b[0;32mimport\u001b[0m \u001b[0;34m*\u001b[0m\u001b[0;34m\u001b[0m\u001b[0;34m\u001b[0m\u001b[0m\n",
            "\u001b[0;32m/usr/local/lib/python3.7/dist-packages/icevision/utils/__init__.py\u001b[0m in \u001b[0;36m<module>\u001b[0;34m()\u001b[0m\n\u001b[0;32m----> 1\u001b[0;31m \u001b[0;32mfrom\u001b[0m \u001b[0micevision\u001b[0m\u001b[0;34m.\u001b[0m\u001b[0mutils\u001b[0m\u001b[0;34m.\u001b[0m\u001b[0mutils\u001b[0m \u001b[0;32mimport\u001b[0m \u001b[0;34m*\u001b[0m\u001b[0;34m\u001b[0m\u001b[0;34m\u001b[0m\u001b[0m\n\u001b[0m\u001b[1;32m      2\u001b[0m \u001b[0;32mfrom\u001b[0m \u001b[0micevision\u001b[0m\u001b[0;34m.\u001b[0m\u001b[0mutils\u001b[0m\u001b[0;34m.\u001b[0m\u001b[0mio\u001b[0m \u001b[0;32mimport\u001b[0m \u001b[0;34m*\u001b[0m\u001b[0;34m\u001b[0m\u001b[0;34m\u001b[0m\u001b[0m\n\u001b[1;32m      3\u001b[0m \u001b[0;32mfrom\u001b[0m \u001b[0micevision\u001b[0m\u001b[0;34m.\u001b[0m\u001b[0mutils\u001b[0m\u001b[0;34m.\u001b[0m\u001b[0mindexable_dict\u001b[0m \u001b[0;32mimport\u001b[0m \u001b[0;34m*\u001b[0m\u001b[0;34m\u001b[0m\u001b[0;34m\u001b[0m\u001b[0m\n\u001b[1;32m      4\u001b[0m \u001b[0;32mfrom\u001b[0m \u001b[0micevision\u001b[0m\u001b[0;34m.\u001b[0m\u001b[0mutils\u001b[0m\u001b[0;34m.\u001b[0m\u001b[0mtorch_utils\u001b[0m \u001b[0;32mimport\u001b[0m \u001b[0;34m*\u001b[0m\u001b[0;34m\u001b[0m\u001b[0;34m\u001b[0m\u001b[0m\n\u001b[1;32m      5\u001b[0m \u001b[0;32mfrom\u001b[0m \u001b[0micevision\u001b[0m\u001b[0;34m.\u001b[0m\u001b[0mutils\u001b[0m\u001b[0;34m.\u001b[0m\u001b[0mimageio\u001b[0m \u001b[0;32mimport\u001b[0m \u001b[0;34m*\u001b[0m\u001b[0;34m\u001b[0m\u001b[0;34m\u001b[0m\u001b[0m\n",
            "\u001b[0;32m/usr/local/lib/python3.7/dist-packages/icevision/utils/utils.py\u001b[0m in \u001b[0;36m<module>\u001b[0;34m()\u001b[0m\n\u001b[1;32m     19\u001b[0m ]\n\u001b[1;32m     20\u001b[0m \u001b[0;34m\u001b[0m\u001b[0m\n\u001b[0;32m---> 21\u001b[0;31m \u001b[0;32mfrom\u001b[0m \u001b[0micevision\u001b[0m\u001b[0;34m.\u001b[0m\u001b[0mimports\u001b[0m \u001b[0;32mimport\u001b[0m \u001b[0;34m*\u001b[0m\u001b[0;34m\u001b[0m\u001b[0;34m\u001b[0m\u001b[0m\n\u001b[0m\u001b[1;32m     22\u001b[0m \u001b[0;34m\u001b[0m\u001b[0m\n\u001b[1;32m     23\u001b[0m \u001b[0;34m\u001b[0m\u001b[0m\n",
            "\u001b[0;32m/usr/local/lib/python3.7/dist-packages/icevision/imports.py\u001b[0m in \u001b[0;36m<module>\u001b[0;34m()\u001b[0m\n\u001b[1;32m     57\u001b[0m \u001b[0;34m\u001b[0m\u001b[0m\n\u001b[1;32m     58\u001b[0m \u001b[0;31m# Soft imports\u001b[0m\u001b[0;34m\u001b[0m\u001b[0;34m\u001b[0m\u001b[0;34m\u001b[0m\u001b[0m\n\u001b[0;32m---> 59\u001b[0;31m \u001b[0;32mfrom\u001b[0m \u001b[0micevision\u001b[0m\u001b[0;34m.\u001b[0m\u001b[0msoft_dependencies\u001b[0m \u001b[0;32mimport\u001b[0m \u001b[0mSoftDependencies\u001b[0m\u001b[0;34m\u001b[0m\u001b[0;34m\u001b[0m\u001b[0m\n\u001b[0m\u001b[1;32m     60\u001b[0m \u001b[0;34m\u001b[0m\u001b[0m\n\u001b[1;32m     61\u001b[0m \u001b[0;32mif\u001b[0m \u001b[0mSoftDependencies\u001b[0m\u001b[0;34m.\u001b[0m\u001b[0mfastai\u001b[0m\u001b[0;34m:\u001b[0m\u001b[0;34m\u001b[0m\u001b[0;34m\u001b[0m\u001b[0m\n",
            "\u001b[0;32m/usr/local/lib/python3.7/dist-packages/icevision/soft_dependencies.py\u001b[0m in \u001b[0;36m<module>\u001b[0;34m()\u001b[0m\n\u001b[1;32m     33\u001b[0m \u001b[0;34m\u001b[0m\u001b[0m\n\u001b[1;32m     34\u001b[0m \u001b[0;34m\u001b[0m\u001b[0m\n\u001b[0;32m---> 35\u001b[0;31m \u001b[0mSoftDependencies\u001b[0m \u001b[0;34m=\u001b[0m \u001b[0m_SoftDependencies\u001b[0m\u001b[0;34m(\u001b[0m\u001b[0;34m)\u001b[0m\u001b[0;34m\u001b[0m\u001b[0;34m\u001b[0m\u001b[0m\n\u001b[0m",
            "\u001b[0;32m/usr/local/lib/python3.7/dist-packages/icevision/soft_dependencies.py\u001b[0m in \u001b[0;36m__init__\u001b[0;34m(self)\u001b[0m\n\u001b[1;32m     18\u001b[0m     \u001b[0;32mdef\u001b[0m \u001b[0m__init__\u001b[0m\u001b[0;34m(\u001b[0m\u001b[0mself\u001b[0m\u001b[0;34m)\u001b[0m\u001b[0;34m:\u001b[0m\u001b[0;34m\u001b[0m\u001b[0;34m\u001b[0m\u001b[0m\n\u001b[1;32m     19\u001b[0m         \u001b[0mself\u001b[0m\u001b[0;34m.\u001b[0m\u001b[0mfastai\u001b[0m \u001b[0;34m=\u001b[0m \u001b[0msoft_import\u001b[0m\u001b[0;34m(\u001b[0m\u001b[0;34m\"fastai\"\u001b[0m\u001b[0;34m)\u001b[0m\u001b[0;34m\u001b[0m\u001b[0;34m\u001b[0m\u001b[0m\n\u001b[0;32m---> 20\u001b[0;31m         \u001b[0mself\u001b[0m\u001b[0;34m.\u001b[0m\u001b[0mpytorch_lightning\u001b[0m \u001b[0;34m=\u001b[0m \u001b[0msoft_import\u001b[0m\u001b[0;34m(\u001b[0m\u001b[0;34m\"pytorch_lightning\"\u001b[0m\u001b[0;34m)\u001b[0m\u001b[0;34m\u001b[0m\u001b[0;34m\u001b[0m\u001b[0m\n\u001b[0m\u001b[1;32m     21\u001b[0m         \u001b[0mself\u001b[0m\u001b[0;34m.\u001b[0m\u001b[0malbumentations\u001b[0m \u001b[0;34m=\u001b[0m \u001b[0msoft_import\u001b[0m\u001b[0;34m(\u001b[0m\u001b[0;34m\"albumentations\"\u001b[0m\u001b[0;34m)\u001b[0m\u001b[0;34m\u001b[0m\u001b[0;34m\u001b[0m\u001b[0m\n\u001b[1;32m     22\u001b[0m         \u001b[0mself\u001b[0m\u001b[0;34m.\u001b[0m\u001b[0meffdet\u001b[0m \u001b[0;34m=\u001b[0m \u001b[0msoft_import\u001b[0m\u001b[0;34m(\u001b[0m\u001b[0;34m\"effdet\"\u001b[0m\u001b[0;34m)\u001b[0m\u001b[0;34m\u001b[0m\u001b[0;34m\u001b[0m\u001b[0m\n",
            "\u001b[0;32m/usr/local/lib/python3.7/dist-packages/icevision/soft_dependencies.py\u001b[0m in \u001b[0;36msoft_import\u001b[0;34m(name)\u001b[0m\n\u001b[1;32m      7\u001b[0m \u001b[0;32mdef\u001b[0m \u001b[0msoft_import\u001b[0m\u001b[0;34m(\u001b[0m\u001b[0mname\u001b[0m\u001b[0;34m:\u001b[0m \u001b[0mstr\u001b[0m\u001b[0;34m)\u001b[0m\u001b[0;34m:\u001b[0m\u001b[0;34m\u001b[0m\u001b[0;34m\u001b[0m\u001b[0m\n\u001b[1;32m      8\u001b[0m     \u001b[0;32mtry\u001b[0m\u001b[0;34m:\u001b[0m\u001b[0;34m\u001b[0m\u001b[0;34m\u001b[0m\u001b[0m\n\u001b[0;32m----> 9\u001b[0;31m         \u001b[0mimportlib\u001b[0m\u001b[0;34m.\u001b[0m\u001b[0mimport_module\u001b[0m\u001b[0;34m(\u001b[0m\u001b[0mname\u001b[0m\u001b[0;34m)\u001b[0m\u001b[0;34m\u001b[0m\u001b[0;34m\u001b[0m\u001b[0m\n\u001b[0m\u001b[1;32m     10\u001b[0m         \u001b[0;32mreturn\u001b[0m \u001b[0;32mTrue\u001b[0m\u001b[0;34m\u001b[0m\u001b[0;34m\u001b[0m\u001b[0m\n\u001b[1;32m     11\u001b[0m     \u001b[0;32mexcept\u001b[0m \u001b[0mModuleNotFoundError\u001b[0m \u001b[0;32mas\u001b[0m \u001b[0me\u001b[0m\u001b[0;34m:\u001b[0m\u001b[0;34m\u001b[0m\u001b[0;34m\u001b[0m\u001b[0m\n",
            "\u001b[0;32m/usr/lib/python3.7/importlib/__init__.py\u001b[0m in \u001b[0;36mimport_module\u001b[0;34m(name, package)\u001b[0m\n\u001b[1;32m    125\u001b[0m                 \u001b[0;32mbreak\u001b[0m\u001b[0;34m\u001b[0m\u001b[0;34m\u001b[0m\u001b[0m\n\u001b[1;32m    126\u001b[0m             \u001b[0mlevel\u001b[0m \u001b[0;34m+=\u001b[0m \u001b[0;36m1\u001b[0m\u001b[0;34m\u001b[0m\u001b[0;34m\u001b[0m\u001b[0m\n\u001b[0;32m--> 127\u001b[0;31m     \u001b[0;32mreturn\u001b[0m \u001b[0m_bootstrap\u001b[0m\u001b[0;34m.\u001b[0m\u001b[0m_gcd_import\u001b[0m\u001b[0;34m(\u001b[0m\u001b[0mname\u001b[0m\u001b[0;34m[\u001b[0m\u001b[0mlevel\u001b[0m\u001b[0;34m:\u001b[0m\u001b[0;34m]\u001b[0m\u001b[0;34m,\u001b[0m \u001b[0mpackage\u001b[0m\u001b[0;34m,\u001b[0m \u001b[0mlevel\u001b[0m\u001b[0;34m)\u001b[0m\u001b[0;34m\u001b[0m\u001b[0;34m\u001b[0m\u001b[0m\n\u001b[0m\u001b[1;32m    128\u001b[0m \u001b[0;34m\u001b[0m\u001b[0m\n\u001b[1;32m    129\u001b[0m \u001b[0;34m\u001b[0m\u001b[0m\n",
            "\u001b[0;32m/usr/local/lib/python3.7/dist-packages/pytorch_lightning/__init__.py\u001b[0m in \u001b[0;36m<module>\u001b[0;34m()\u001b[0m\n\u001b[1;32m     28\u001b[0m     \u001b[0m_logger\u001b[0m\u001b[0;34m.\u001b[0m\u001b[0mpropagate\u001b[0m \u001b[0;34m=\u001b[0m \u001b[0;32mFalse\u001b[0m\u001b[0;34m\u001b[0m\u001b[0;34m\u001b[0m\u001b[0m\n\u001b[1;32m     29\u001b[0m \u001b[0;34m\u001b[0m\u001b[0m\n\u001b[0;32m---> 30\u001b[0;31m \u001b[0;32mfrom\u001b[0m \u001b[0mpytorch_lightning\u001b[0m\u001b[0;34m.\u001b[0m\u001b[0mcallbacks\u001b[0m \u001b[0;32mimport\u001b[0m \u001b[0mCallback\u001b[0m  \u001b[0;31m# noqa: E402\u001b[0m\u001b[0;34m\u001b[0m\u001b[0;34m\u001b[0m\u001b[0m\n\u001b[0m\u001b[1;32m     31\u001b[0m \u001b[0;32mfrom\u001b[0m \u001b[0mpytorch_lightning\u001b[0m\u001b[0;34m.\u001b[0m\u001b[0mcore\u001b[0m \u001b[0;32mimport\u001b[0m \u001b[0mLightningDataModule\u001b[0m\u001b[0;34m,\u001b[0m \u001b[0mLightningModule\u001b[0m  \u001b[0;31m# noqa: E402\u001b[0m\u001b[0;34m\u001b[0m\u001b[0;34m\u001b[0m\u001b[0m\n\u001b[1;32m     32\u001b[0m \u001b[0;32mfrom\u001b[0m \u001b[0mpytorch_lightning\u001b[0m\u001b[0;34m.\u001b[0m\u001b[0mtrainer\u001b[0m \u001b[0;32mimport\u001b[0m \u001b[0mTrainer\u001b[0m  \u001b[0;31m# noqa: E402\u001b[0m\u001b[0;34m\u001b[0m\u001b[0;34m\u001b[0m\u001b[0m\n",
            "\u001b[0;32m/usr/local/lib/python3.7/dist-packages/pytorch_lightning/callbacks/__init__.py\u001b[0m in \u001b[0;36m<module>\u001b[0;34m()\u001b[0m\n\u001b[1;32m     12\u001b[0m \u001b[0;31m# See the License for the specific language governing permissions and\u001b[0m\u001b[0;34m\u001b[0m\u001b[0;34m\u001b[0m\u001b[0;34m\u001b[0m\u001b[0m\n\u001b[1;32m     13\u001b[0m \u001b[0;31m# limitations under the License.\u001b[0m\u001b[0;34m\u001b[0m\u001b[0;34m\u001b[0m\u001b[0;34m\u001b[0m\u001b[0m\n\u001b[0;32m---> 14\u001b[0;31m \u001b[0;32mfrom\u001b[0m \u001b[0mpytorch_lightning\u001b[0m\u001b[0;34m.\u001b[0m\u001b[0mcallbacks\u001b[0m\u001b[0;34m.\u001b[0m\u001b[0mbase\u001b[0m \u001b[0;32mimport\u001b[0m \u001b[0mCallback\u001b[0m\u001b[0;34m\u001b[0m\u001b[0;34m\u001b[0m\u001b[0m\n\u001b[0m\u001b[1;32m     15\u001b[0m \u001b[0;32mfrom\u001b[0m \u001b[0mpytorch_lightning\u001b[0m\u001b[0;34m.\u001b[0m\u001b[0mcallbacks\u001b[0m\u001b[0;34m.\u001b[0m\u001b[0mdevice_stats_monitor\u001b[0m \u001b[0;32mimport\u001b[0m \u001b[0mDeviceStatsMonitor\u001b[0m\u001b[0;34m\u001b[0m\u001b[0;34m\u001b[0m\u001b[0m\n\u001b[1;32m     16\u001b[0m \u001b[0;32mfrom\u001b[0m \u001b[0mpytorch_lightning\u001b[0m\u001b[0;34m.\u001b[0m\u001b[0mcallbacks\u001b[0m\u001b[0;34m.\u001b[0m\u001b[0mearly_stopping\u001b[0m \u001b[0;32mimport\u001b[0m \u001b[0mEarlyStopping\u001b[0m\u001b[0;34m\u001b[0m\u001b[0;34m\u001b[0m\u001b[0m\n",
            "\u001b[0;32m/usr/local/lib/python3.7/dist-packages/pytorch_lightning/callbacks/base.py\u001b[0m in \u001b[0;36m<module>\u001b[0;34m()\u001b[0m\n\u001b[1;32m     23\u001b[0m \u001b[0;34m\u001b[0m\u001b[0m\n\u001b[1;32m     24\u001b[0m \u001b[0;32mimport\u001b[0m \u001b[0mpytorch_lightning\u001b[0m \u001b[0;32mas\u001b[0m \u001b[0mpl\u001b[0m\u001b[0;34m\u001b[0m\u001b[0;34m\u001b[0m\u001b[0m\n\u001b[0;32m---> 25\u001b[0;31m \u001b[0;32mfrom\u001b[0m \u001b[0mpytorch_lightning\u001b[0m\u001b[0;34m.\u001b[0m\u001b[0mutilities\u001b[0m\u001b[0;34m.\u001b[0m\u001b[0mtypes\u001b[0m \u001b[0;32mimport\u001b[0m \u001b[0mSTEP_OUTPUT\u001b[0m\u001b[0;34m\u001b[0m\u001b[0;34m\u001b[0m\u001b[0m\n\u001b[0m\u001b[1;32m     26\u001b[0m \u001b[0;34m\u001b[0m\u001b[0m\n\u001b[1;32m     27\u001b[0m \u001b[0;34m\u001b[0m\u001b[0m\n",
            "\u001b[0;32m/usr/local/lib/python3.7/dist-packages/pytorch_lightning/utilities/__init__.py\u001b[0m in \u001b[0;36m<module>\u001b[0;34m()\u001b[0m\n\u001b[1;32m     16\u001b[0m \u001b[0;32mimport\u001b[0m \u001b[0mnumpy\u001b[0m\u001b[0;34m\u001b[0m\u001b[0;34m\u001b[0m\u001b[0m\n\u001b[1;32m     17\u001b[0m \u001b[0;34m\u001b[0m\u001b[0m\n\u001b[0;32m---> 18\u001b[0;31m \u001b[0;32mfrom\u001b[0m \u001b[0mpytorch_lightning\u001b[0m\u001b[0;34m.\u001b[0m\u001b[0mutilities\u001b[0m\u001b[0;34m.\u001b[0m\u001b[0mapply_func\u001b[0m \u001b[0;32mimport\u001b[0m \u001b[0mmove_data_to_device\u001b[0m  \u001b[0;31m# noqa: F401\u001b[0m\u001b[0;34m\u001b[0m\u001b[0;34m\u001b[0m\u001b[0m\n\u001b[0m\u001b[1;32m     19\u001b[0m \u001b[0;32mfrom\u001b[0m \u001b[0mpytorch_lightning\u001b[0m\u001b[0;34m.\u001b[0m\u001b[0mutilities\u001b[0m\u001b[0;34m.\u001b[0m\u001b[0mdistributed\u001b[0m \u001b[0;32mimport\u001b[0m \u001b[0mAllGatherGrad\u001b[0m  \u001b[0;31m# noqa: F401\u001b[0m\u001b[0;34m\u001b[0m\u001b[0;34m\u001b[0m\u001b[0m\n\u001b[1;32m     20\u001b[0m from pytorch_lightning.utilities.enums import (  # noqa: F401\n",
            "\u001b[0;32m/usr/local/lib/python3.7/dist-packages/pytorch_lightning/utilities/apply_func.py\u001b[0m in \u001b[0;36m<module>\u001b[0;34m()\u001b[0m\n\u001b[1;32m     27\u001b[0m \u001b[0;34m\u001b[0m\u001b[0m\n\u001b[1;32m     28\u001b[0m \u001b[0;32mfrom\u001b[0m \u001b[0mpytorch_lightning\u001b[0m\u001b[0;34m.\u001b[0m\u001b[0mutilities\u001b[0m\u001b[0;34m.\u001b[0m\u001b[0mexceptions\u001b[0m \u001b[0;32mimport\u001b[0m \u001b[0mMisconfigurationException\u001b[0m\u001b[0;34m\u001b[0m\u001b[0;34m\u001b[0m\u001b[0m\n\u001b[0;32m---> 29\u001b[0;31m \u001b[0;32mfrom\u001b[0m \u001b[0mpytorch_lightning\u001b[0m\u001b[0;34m.\u001b[0m\u001b[0mutilities\u001b[0m\u001b[0;34m.\u001b[0m\u001b[0mimports\u001b[0m \u001b[0;32mimport\u001b[0m \u001b[0m_compare_version\u001b[0m\u001b[0;34m,\u001b[0m \u001b[0m_TORCHTEXT_LEGACY\u001b[0m\u001b[0;34m\u001b[0m\u001b[0;34m\u001b[0m\u001b[0m\n\u001b[0m\u001b[1;32m     30\u001b[0m \u001b[0;32mfrom\u001b[0m \u001b[0mpytorch_lightning\u001b[0m\u001b[0;34m.\u001b[0m\u001b[0mutilities\u001b[0m\u001b[0;34m.\u001b[0m\u001b[0mwarnings\u001b[0m \u001b[0;32mimport\u001b[0m \u001b[0mrank_zero_deprecation\u001b[0m\u001b[0;34m\u001b[0m\u001b[0;34m\u001b[0m\u001b[0m\n\u001b[1;32m     31\u001b[0m \u001b[0;34m\u001b[0m\u001b[0m\n",
            "\u001b[0;32m/usr/local/lib/python3.7/dist-packages/pytorch_lightning/utilities/imports.py\u001b[0m in \u001b[0;36m<module>\u001b[0;34m()\u001b[0m\n\u001b[1;32m    116\u001b[0m \u001b[0m_TORCH_QUANTIZE_AVAILABLE\u001b[0m \u001b[0;34m=\u001b[0m \u001b[0mbool\u001b[0m\u001b[0;34m(\u001b[0m\u001b[0;34m[\u001b[0m\u001b[0meg\u001b[0m \u001b[0;32mfor\u001b[0m \u001b[0meg\u001b[0m \u001b[0;32min\u001b[0m \u001b[0mtorch\u001b[0m\u001b[0;34m.\u001b[0m\u001b[0mbackends\u001b[0m\u001b[0;34m.\u001b[0m\u001b[0mquantized\u001b[0m\u001b[0;34m.\u001b[0m\u001b[0msupported_engines\u001b[0m \u001b[0;32mif\u001b[0m \u001b[0meg\u001b[0m \u001b[0;34m!=\u001b[0m \u001b[0;34m\"none\"\u001b[0m\u001b[0;34m]\u001b[0m\u001b[0;34m)\u001b[0m\u001b[0;34m\u001b[0m\u001b[0;34m\u001b[0m\u001b[0m\n\u001b[1;32m    117\u001b[0m \u001b[0m_TORCHTEXT_AVAILABLE\u001b[0m \u001b[0;34m=\u001b[0m \u001b[0m_package_available\u001b[0m\u001b[0;34m(\u001b[0m\u001b[0;34m\"torchtext\"\u001b[0m\u001b[0;34m)\u001b[0m\u001b[0;34m\u001b[0m\u001b[0;34m\u001b[0m\u001b[0m\n\u001b[0;32m--> 118\u001b[0;31m \u001b[0m_TORCHTEXT_LEGACY\u001b[0m\u001b[0;34m:\u001b[0m \u001b[0mbool\u001b[0m \u001b[0;34m=\u001b[0m \u001b[0m_TORCHTEXT_AVAILABLE\u001b[0m \u001b[0;32mand\u001b[0m \u001b[0m_compare_version\u001b[0m\u001b[0;34m(\u001b[0m\u001b[0;34m\"torchtext\"\u001b[0m\u001b[0;34m,\u001b[0m \u001b[0moperator\u001b[0m\u001b[0;34m.\u001b[0m\u001b[0mlt\u001b[0m\u001b[0;34m,\u001b[0m \u001b[0;34m\"0.11.0\"\u001b[0m\u001b[0;34m)\u001b[0m\u001b[0;34m\u001b[0m\u001b[0;34m\u001b[0m\u001b[0m\n\u001b[0m\u001b[1;32m    119\u001b[0m \u001b[0m_TORCHVISION_AVAILABLE\u001b[0m \u001b[0;34m=\u001b[0m \u001b[0m_package_available\u001b[0m\u001b[0;34m(\u001b[0m\u001b[0;34m\"torchvision\"\u001b[0m\u001b[0;34m)\u001b[0m\u001b[0;34m\u001b[0m\u001b[0;34m\u001b[0m\u001b[0m\n\u001b[1;32m    120\u001b[0m \u001b[0m_WANDB_AVAILABLE\u001b[0m \u001b[0;34m=\u001b[0m \u001b[0m_package_available\u001b[0m\u001b[0;34m(\u001b[0m\u001b[0;34m\"wandb\"\u001b[0m\u001b[0;34m)\u001b[0m\u001b[0;34m\u001b[0m\u001b[0;34m\u001b[0m\u001b[0m\n",
            "\u001b[0;32m/usr/local/lib/python3.7/dist-packages/pytorch_lightning/utilities/imports.py\u001b[0m in \u001b[0;36m_compare_version\u001b[0;34m(package, op, version, use_base_version)\u001b[0m\n\u001b[1;32m     69\u001b[0m     \"\"\"\n\u001b[1;32m     70\u001b[0m     \u001b[0;32mtry\u001b[0m\u001b[0;34m:\u001b[0m\u001b[0;34m\u001b[0m\u001b[0;34m\u001b[0m\u001b[0m\n\u001b[0;32m---> 71\u001b[0;31m         \u001b[0mpkg\u001b[0m \u001b[0;34m=\u001b[0m \u001b[0mimportlib\u001b[0m\u001b[0;34m.\u001b[0m\u001b[0mimport_module\u001b[0m\u001b[0;34m(\u001b[0m\u001b[0mpackage\u001b[0m\u001b[0;34m)\u001b[0m\u001b[0;34m\u001b[0m\u001b[0;34m\u001b[0m\u001b[0m\n\u001b[0m\u001b[1;32m     72\u001b[0m     \u001b[0;32mexcept\u001b[0m \u001b[0;34m(\u001b[0m\u001b[0mImportError\u001b[0m\u001b[0;34m,\u001b[0m \u001b[0mDistributionNotFound\u001b[0m\u001b[0;34m)\u001b[0m\u001b[0;34m:\u001b[0m\u001b[0;34m\u001b[0m\u001b[0;34m\u001b[0m\u001b[0m\n\u001b[1;32m     73\u001b[0m         \u001b[0;32mreturn\u001b[0m \u001b[0;32mFalse\u001b[0m\u001b[0;34m\u001b[0m\u001b[0;34m\u001b[0m\u001b[0m\n",
            "\u001b[0;32m/usr/lib/python3.7/importlib/__init__.py\u001b[0m in \u001b[0;36mimport_module\u001b[0;34m(name, package)\u001b[0m\n\u001b[1;32m    125\u001b[0m                 \u001b[0;32mbreak\u001b[0m\u001b[0;34m\u001b[0m\u001b[0;34m\u001b[0m\u001b[0m\n\u001b[1;32m    126\u001b[0m             \u001b[0mlevel\u001b[0m \u001b[0;34m+=\u001b[0m \u001b[0;36m1\u001b[0m\u001b[0;34m\u001b[0m\u001b[0;34m\u001b[0m\u001b[0m\n\u001b[0;32m--> 127\u001b[0;31m     \u001b[0;32mreturn\u001b[0m \u001b[0m_bootstrap\u001b[0m\u001b[0;34m.\u001b[0m\u001b[0m_gcd_import\u001b[0m\u001b[0;34m(\u001b[0m\u001b[0mname\u001b[0m\u001b[0;34m[\u001b[0m\u001b[0mlevel\u001b[0m\u001b[0;34m:\u001b[0m\u001b[0;34m]\u001b[0m\u001b[0;34m,\u001b[0m \u001b[0mpackage\u001b[0m\u001b[0;34m,\u001b[0m \u001b[0mlevel\u001b[0m\u001b[0;34m)\u001b[0m\u001b[0;34m\u001b[0m\u001b[0;34m\u001b[0m\u001b[0m\n\u001b[0m\u001b[1;32m    128\u001b[0m \u001b[0;34m\u001b[0m\u001b[0m\n\u001b[1;32m    129\u001b[0m \u001b[0;34m\u001b[0m\u001b[0m\n",
            "\u001b[0;32m/usr/local/lib/python3.7/dist-packages/torchtext/__init__.py\u001b[0m in \u001b[0;36m<module>\u001b[0;34m()\u001b[0m\n\u001b[1;32m      4\u001b[0m \u001b[0;34m\u001b[0m\u001b[0m\n\u001b[1;32m      5\u001b[0m \u001b[0;31m# the following import has to happen first in order to load the torchtext C++ library\u001b[0m\u001b[0;34m\u001b[0m\u001b[0;34m\u001b[0m\u001b[0;34m\u001b[0m\u001b[0m\n\u001b[0;32m----> 6\u001b[0;31m \u001b[0;32mfrom\u001b[0m \u001b[0mtorchtext\u001b[0m \u001b[0;32mimport\u001b[0m \u001b[0m_extension\u001b[0m  \u001b[0;31m# noqa: F401\u001b[0m\u001b[0;34m\u001b[0m\u001b[0;34m\u001b[0m\u001b[0m\n\u001b[0m\u001b[1;32m      7\u001b[0m \u001b[0;34m\u001b[0m\u001b[0m\n\u001b[1;32m      8\u001b[0m \u001b[0m_TEXT_BUCKET\u001b[0m \u001b[0;34m=\u001b[0m \u001b[0;34m\"https://download.pytorch.org/models/text/\"\u001b[0m\u001b[0;34m\u001b[0m\u001b[0;34m\u001b[0m\u001b[0m\n",
            "\u001b[0;32m/usr/local/lib/python3.7/dist-packages/torchtext/_extension.py\u001b[0m in \u001b[0;36m<module>\u001b[0;34m()\u001b[0m\n\u001b[1;32m     62\u001b[0m \u001b[0;34m\u001b[0m\u001b[0m\n\u001b[1;32m     63\u001b[0m \u001b[0;34m\u001b[0m\u001b[0m\n\u001b[0;32m---> 64\u001b[0;31m \u001b[0m_init_extension\u001b[0m\u001b[0;34m(\u001b[0m\u001b[0;34m)\u001b[0m\u001b[0;34m\u001b[0m\u001b[0;34m\u001b[0m\u001b[0m\n\u001b[0m",
            "\u001b[0;32m/usr/local/lib/python3.7/dist-packages/torchtext/_extension.py\u001b[0m in \u001b[0;36m_init_extension\u001b[0;34m()\u001b[0m\n\u001b[1;32m     56\u001b[0m         \u001b[0;32mraise\u001b[0m \u001b[0mImportError\u001b[0m\u001b[0;34m(\u001b[0m\u001b[0;34m\"torchtext C++ Extension is not found.\"\u001b[0m\u001b[0;34m)\u001b[0m\u001b[0;34m\u001b[0m\u001b[0;34m\u001b[0m\u001b[0m\n\u001b[1;32m     57\u001b[0m \u001b[0;34m\u001b[0m\u001b[0m\n\u001b[0;32m---> 58\u001b[0;31m     \u001b[0m_load_lib\u001b[0m\u001b[0;34m(\u001b[0m\u001b[0;34m\"libtorchtext\"\u001b[0m\u001b[0;34m)\u001b[0m\u001b[0;34m\u001b[0m\u001b[0;34m\u001b[0m\u001b[0m\n\u001b[0m\u001b[1;32m     59\u001b[0m     \u001b[0;31m# This import is for initializing the methods registered via PyBind11\u001b[0m\u001b[0;34m\u001b[0m\u001b[0;34m\u001b[0m\u001b[0;34m\u001b[0m\u001b[0m\n\u001b[1;32m     60\u001b[0m     \u001b[0;31m# This has to happen after the base library is loaded\u001b[0m\u001b[0;34m\u001b[0m\u001b[0;34m\u001b[0m\u001b[0;34m\u001b[0m\u001b[0m\n",
            "\u001b[0;32m/usr/local/lib/python3.7/dist-packages/torchtext/_extension.py\u001b[0m in \u001b[0;36m_load_lib\u001b[0;34m(lib)\u001b[0m\n\u001b[1;32m     48\u001b[0m     \u001b[0;32mif\u001b[0m \u001b[0;32mnot\u001b[0m \u001b[0mpath\u001b[0m\u001b[0;34m.\u001b[0m\u001b[0mexists\u001b[0m\u001b[0;34m(\u001b[0m\u001b[0;34m)\u001b[0m\u001b[0;34m:\u001b[0m\u001b[0;34m\u001b[0m\u001b[0;34m\u001b[0m\u001b[0m\n\u001b[1;32m     49\u001b[0m         \u001b[0;32mreturn\u001b[0m \u001b[0;32mFalse\u001b[0m\u001b[0;34m\u001b[0m\u001b[0;34m\u001b[0m\u001b[0m\n\u001b[0;32m---> 50\u001b[0;31m     \u001b[0mtorch\u001b[0m\u001b[0;34m.\u001b[0m\u001b[0mops\u001b[0m\u001b[0;34m.\u001b[0m\u001b[0mload_library\u001b[0m\u001b[0;34m(\u001b[0m\u001b[0mpath\u001b[0m\u001b[0;34m)\u001b[0m\u001b[0;34m\u001b[0m\u001b[0;34m\u001b[0m\u001b[0m\n\u001b[0m\u001b[1;32m     51\u001b[0m     \u001b[0;32mreturn\u001b[0m \u001b[0;32mTrue\u001b[0m\u001b[0;34m\u001b[0m\u001b[0;34m\u001b[0m\u001b[0m\n\u001b[1;32m     52\u001b[0m \u001b[0;34m\u001b[0m\u001b[0m\n",
            "\u001b[0;32m/usr/local/lib/python3.7/dist-packages/torch/_ops.py\u001b[0m in \u001b[0;36mload_library\u001b[0;34m(self, path)\u001b[0m\n\u001b[1;32m    108\u001b[0m             \u001b[0;31m# static (global) initialization code in order to register custom\u001b[0m\u001b[0;34m\u001b[0m\u001b[0;34m\u001b[0m\u001b[0;34m\u001b[0m\u001b[0m\n\u001b[1;32m    109\u001b[0m             \u001b[0;31m# operators with the JIT.\u001b[0m\u001b[0;34m\u001b[0m\u001b[0;34m\u001b[0m\u001b[0;34m\u001b[0m\u001b[0m\n\u001b[0;32m--> 110\u001b[0;31m             \u001b[0mctypes\u001b[0m\u001b[0;34m.\u001b[0m\u001b[0mCDLL\u001b[0m\u001b[0;34m(\u001b[0m\u001b[0mpath\u001b[0m\u001b[0;34m)\u001b[0m\u001b[0;34m\u001b[0m\u001b[0;34m\u001b[0m\u001b[0m\n\u001b[0m\u001b[1;32m    111\u001b[0m         \u001b[0mself\u001b[0m\u001b[0;34m.\u001b[0m\u001b[0mloaded_libraries\u001b[0m\u001b[0;34m.\u001b[0m\u001b[0madd\u001b[0m\u001b[0;34m(\u001b[0m\u001b[0mpath\u001b[0m\u001b[0;34m)\u001b[0m\u001b[0;34m\u001b[0m\u001b[0;34m\u001b[0m\u001b[0m\n\u001b[1;32m    112\u001b[0m \u001b[0;34m\u001b[0m\u001b[0m\n",
            "\u001b[0;32m/usr/lib/python3.7/ctypes/__init__.py\u001b[0m in \u001b[0;36m__init__\u001b[0;34m(self, name, mode, handle, use_errno, use_last_error)\u001b[0m\n\u001b[1;32m    362\u001b[0m \u001b[0;34m\u001b[0m\u001b[0m\n\u001b[1;32m    363\u001b[0m         \u001b[0;32mif\u001b[0m \u001b[0mhandle\u001b[0m \u001b[0;32mis\u001b[0m \u001b[0;32mNone\u001b[0m\u001b[0;34m:\u001b[0m\u001b[0;34m\u001b[0m\u001b[0;34m\u001b[0m\u001b[0m\n\u001b[0;32m--> 364\u001b[0;31m             \u001b[0mself\u001b[0m\u001b[0;34m.\u001b[0m\u001b[0m_handle\u001b[0m \u001b[0;34m=\u001b[0m \u001b[0m_dlopen\u001b[0m\u001b[0;34m(\u001b[0m\u001b[0mself\u001b[0m\u001b[0;34m.\u001b[0m\u001b[0m_name\u001b[0m\u001b[0;34m,\u001b[0m \u001b[0mmode\u001b[0m\u001b[0;34m)\u001b[0m\u001b[0;34m\u001b[0m\u001b[0;34m\u001b[0m\u001b[0m\n\u001b[0m\u001b[1;32m    365\u001b[0m         \u001b[0;32melse\u001b[0m\u001b[0;34m:\u001b[0m\u001b[0;34m\u001b[0m\u001b[0;34m\u001b[0m\u001b[0m\n\u001b[1;32m    366\u001b[0m             \u001b[0mself\u001b[0m\u001b[0;34m.\u001b[0m\u001b[0m_handle\u001b[0m \u001b[0;34m=\u001b[0m \u001b[0mhandle\u001b[0m\u001b[0;34m\u001b[0m\u001b[0;34m\u001b[0m\u001b[0m\n",
            "\u001b[0;31mOSError\u001b[0m: /usr/local/lib/python3.7/dist-packages/torchtext/lib/libtorchtext.so: undefined symbol: _ZN3c1022getCustomClassTypeImplERKSt10type_index"
          ]
        }
      ],
      "source": [
        "from icevision.all import *"
      ]
    },
    {
      "cell_type": "markdown",
      "source": [
        "#2. เตรียมพร้อมข้อมูล"
      ],
      "metadata": {
        "id": "gHTdxOiKcSIO"
      }
    },
    {
      "cell_type": "markdown",
      "metadata": {
        "id": "t8HO38P19btQ"
      },
      "source": [
        "## 2.1 Download Datasets Mask Detection\n",
        "\n",
        "ที่เก็บบน google drive ด้วย Library Gdown\n",
        "\n",
        "NOTE: สามารถเปลี่ยนเป็นชุดข้อมูลตัวเองได้"
      ]
    },
    {
      "cell_type": "code",
      "source": [
        "dest_dir = \"/content/data/\" # โฟล์เดอร์ที่จะแตกไฟล์ไป อย่าเปลี่ยนถ้ายังไม่รู้ว่าตรงไหนใช้ทำอะไร"
      ],
      "metadata": {
        "id": "aPPhFNEUqrCD"
      },
      "execution_count": null,
      "outputs": []
    },
    {
      "cell_type": "code",
      "execution_count": null,
      "metadata": {
        "id": "gQV_3SsV8y57"
      },
      "outputs": [],
      "source": [
        "!pip install gdown -q # ติดตั้ง Gdown เอาไว้โหลดไฟล์จาก Google Drive เฉยๆ\n",
        "!cd '/content/' && mkdir 'data' && mkdir 'test' # cd เข้าไปใน Folder \"/content\"(cd = ChangeDirectory) แล้ว(&&) สร้างโฟล์เดอร์(mkdir = 'make directory') \"data\" และ test\n",
        "!gdown \"https://drive.google.com/u/1/uc?id=189OTIOsi-c1KRmEe81VLPJRKf8q7Ccl7&export=download\" # โหลดไฟล์ Zip จากลิ้งค์ ด้วย Gdown --ตรงนี้เปลี่ยนเป็นลิ้งตัวเองได้ ถ้าข้อมูลแบ่งไว้เหมือนกัน--\n",
        "!unzip -q \"/content/maskdetection\" -d \"/content/data/\" # แตกไฟล์ zip ไปที่ -d(directory) \"/content/data/\" ลองกดเปิดไฟล์ด้านซ้ายมาดูได้\n",
        "#      ^ ที่ใส่ -q(quite) เพื่อไม่ให้แสดง logs จะได้ไม่รกจอเฉยๆ (อยากรู้ว่ารกยังไงลองลบออกได้)"
      ]
    },
    {
      "cell_type": "markdown",
      "metadata": {
        "id": "gY4NjVhJ9jDa"
      },
      "source": [
        "### เตรียมข้อมูลด้วย Parsers ของ Icevision\n",
        "โดยแบ่งเป็น Train และ Validation Set"
      ]
    },
    {
      "cell_type": "code",
      "execution_count": null,
      "metadata": {
        "id": "DXT9edZnXJQJ"
      },
      "outputs": [],
      "source": [
        "parser = parsers.VOCBBoxParser(annotations_dir= f'{dest_dir}/annotations', images_dir=f'{dest_dir}/images') # parsers เป็นตัวแปรที่มาจาก icevision.all\n",
        "train_records, valid_records = parser.parse() # parsers ใช้ตั้งระบุ Folder ที่เก็บรูป('/images') กับข้อมูล Bounding box('/annotations') -> จากนั้นแบ่งเป็น Train กับ Valid เอาไว้ใช้เทรนโมเดล"
      ]
    },
    {
      "cell_type": "markdown",
      "source": [
        "## 2.2 การ Normalize ข้อมูล\n",
        "ปรับชุดข้อมูลให้เข้ากับสิ่งที่ model ต้องการ โดยการ\n",
        "\n",
        "*   Resize ภาพไปเป็นสี่เหลี่ยมจตุรัส ขนาด image_size = 384\n",
        "\n",
        "ปรับใช้ทั้งบน Train และ Validation Set\n",
        "\n"
      ],
      "metadata": {
        "id": "Ms5kfbI2p4f5"
      }
    },
    {
      "cell_type": "code",
      "execution_count": null,
      "metadata": {
        "id": "oqqa2-mPXeYC"
      },
      "outputs": [],
      "source": [
        "image_size = 384 # กรณีใช้ int ภาพจะ Resize แบบไม่บีบภาพ(Maintain Aspect Ratio) ถ้าใช้ (size, size) ที่เป็น Tuple ภาพจะ Resize แบบไม่สน Aspect Ratio(บีบภาพเป็นสี่เหลี่ยม)\n",
        "# image size = (384, 384) # <--- ตัวอย่าง\n",
        "train_tfms = tfms.A.Adapter([*tfms.A.aug_tfms(size=image_size, presize=512), tfms.A.Normalize()]) # Resize Validation Datasets \n",
        "valid_tfms = tfms.A.Adapter([*tfms.A.resize_and_pad(size=image_size), tfms.A.Normalize()]) # Resize Validation Datasets \n",
        "\n",
        "train_ds = Dataset(train_records, train_tfms) # ทำชุด Train\n",
        "valid_ds = Dataset(valid_records, valid_tfms) # ทำชุด Validation"
      ]
    },
    {
      "cell_type": "markdown",
      "metadata": {
        "id": "m4HNHJV_9rqQ"
      },
      "source": [
        "# 3. เตรียมตัวเทรน Model\n",
        "ครั้งนี้เราเลือกใช้ [YOLOv5](https://github.com/ultralytics/yolov5)"
      ]
    },
    {
      "cell_type": "markdown",
      "source": [
        "## 3.1 เลือก Model Pretrained ของ YOLOv5"
      ],
      "metadata": {
        "id": "YXLmXwkkeOqA"
      }
    },
    {
      "cell_type": "code",
      "execution_count": null,
      "metadata": {
        "id": "-os3YEcuXi25"
      },
      "outputs": [],
      "source": [
        "# เลือกโมเดลที่จะใช้เป็น YoloV5 \n",
        "model_type = models.ultralytics.yolov5\n",
        "backbone = model_type.backbones.medium\n",
        "# yolov5 ต้องบอก img_size ที่ใช้ไปด้วย\n",
        "extra_args = {}\n",
        "extra_args['img_size'] = image_size\n",
        "\n",
        "print(model_type, backbone, extra_args)\n",
        "\n",
        "model = model_type.model(backbone=backbone(pretrained=True), num_classes=len(parser.class_map), **extra_args) # ใช้โมเดล pretrain = True"
      ]
    },
    {
      "cell_type": "markdown",
      "source": [
        "## 3.2 เตรียมพร้อม Model"
      ],
      "metadata": {
        "id": "zjItVdPae1Va"
      }
    },
    {
      "cell_type": "markdown",
      "metadata": {
        "id": "zzKscGYs-cWD"
      },
      "source": [
        "### สร้าง/เลือกสิ่งที่ Model ต้องการทั้งหมด\n",
        "\n",
        "*   สร้าง Dataloaders เพื่อโหลดข้อมูลเข้าโมเดล\n",
        "*   เลือก Metrics\n",
        "\n",
        "และสร้าง fastai learner เพื่อใช้เทรน"
      ]
    },
    {
      "cell_type": "code",
      "execution_count": null,
      "metadata": {
        "id": "7TUbcV8rX10p"
      },
      "outputs": [],
      "source": [
        "train_dl = model_type.train_dl(train_ds, batch_size=16, num_workers=8, shuffle=True)\n",
        "valid_dl = model_type.valid_dl(valid_ds, batch_size=16, num_workers=8, shuffle=False)\n",
        "\n",
        "metrics = [COCOMetric(metric_type=COCOMetricType.bbox)]\n",
        "\n",
        "learn = model_type.fastai.learner(dls=[train_dl, valid_dl], model=model, metrics=metrics)"
      ]
    },
    {
      "cell_type": "markdown",
      "metadata": {
        "id": "Nk1mSJVf-qVz"
      },
      "source": [
        "### การหา learning rate ที่เหมาะสม"
      ]
    },
    {
      "cell_type": "code",
      "execution_count": null,
      "metadata": {
        "id": "cUhpNomwYRNL"
      },
      "outputs": [],
      "source": [
        "# # ถ้าด้านล่าง ใช้ไม่ได้ จะทำการ Reset Notebook ให้กดรันแต่แรกใหม่อีกครั้งนึง\n",
        "# # ทำไปเพื่อ Reset kernel(ระบบ) ของตัวเครื่องเพื่อให้โหลดใหม่ เพราะบางครั้ง มันจะหา IceVision ไม่เจอ\n",
        "\n",
        "import IPython\n",
        "try:\n",
        "  learn.lr_find()\n",
        "\n",
        "except AttributeError:\n",
        "  print('Module ไม่ครบ')\n",
        "  print('Reset Kernel... & Fixing...')\n",
        "  print('กด Run All หรือไล่รัน notebook ใหม่อีกครั้ง')\n",
        "  IPython.Application.instance().kernel.do_shutdown(True)\n"
      ]
    },
    {
      "cell_type": "markdown",
      "metadata": {
        "id": "zUAtnOu8_BlF"
      },
      "source": [
        "## 3.3 Training the model!\n",
        "กำหนด epoch และ lr (learing rate) โดยเหมาะสมและเริ่มเทรน model\n",
        "\n",
        "NOTE: การปรับค่า epoch ควรจะสังเกต loss หลังจากการเทรน ถ้า model เริ่มไม่ค่อยมีความพัฒนา"
      ]
    },
    {
      "cell_type": "code",
      "source": [
        "epoch = 20\n",
        "learning_rate = 1e-2 #1x10^-2"
      ],
      "metadata": {
        "id": "xj_b3Siiibgx"
      },
      "execution_count": null,
      "outputs": []
    },
    {
      "cell_type": "markdown",
      "source": [
        "เริ่มการเทรน model ด้วยการ `fine tuning`"
      ],
      "metadata": {
        "id": "yuNu41XOgWcq"
      }
    },
    {
      "cell_type": "code",
      "execution_count": null,
      "metadata": {
        "id": "DTySp84dYYjC"
      },
      "outputs": [],
      "source": [
        "learn.fine_tune(epoch, learning_rate, freeze_epochs=1)"
      ]
    },
    {
      "cell_type": "markdown",
      "source": [
        "# 4. ดูผลการเทรน Model\n",
        "เราจะลองทดสอบกับภาพตัวอย่างที่ model ไม่เคยเห็นมาก่อน\n",
        "\n",
        "มีภาพให้ทดสอบทั้งหมด 4 ภาพ\n",
        "\n",
        "*   1.jpg\n",
        "*   2.jpg\n",
        "*   3.jpg\n",
        "*   4.jpg\n",
        "\n"
      ],
      "metadata": {
        "id": "h5GpGSK4kEBq"
      }
    },
    {
      "cell_type": "code",
      "execution_count": null,
      "metadata": {
        "id": "UB3KlVrGBhjH"
      },
      "outputs": [],
      "source": [
        "!gdown 'https://drive.google.com/u/1/uc?id=1jS1gNGBRe8en8vYkT_5EPCtwE_xymqYC&export=download' # โหลด tests data\n",
        "!unzip \"/content/maskdetectiontestset\" -d \"/content/data\" # แตกไฟล์"
      ]
    },
    {
      "cell_type": "markdown",
      "metadata": {
        "id": "eGBmgvOSDNgt"
      },
      "source": [
        "##4.1 เลือกภาพ Sample ที่จะนำมาทดสอบ\n",
        "เปลี่ยน `img_sel = \"1.jpg\"` เพื่อเปลี่ยนภาพทดสอบ"
      ]
    },
    {
      "cell_type": "code",
      "source": [
        "img_sel = \"1.jpg\""
      ],
      "metadata": {
        "id": "SDrRHDxukYLc"
      },
      "execution_count": null,
      "outputs": []
    },
    {
      "cell_type": "code",
      "execution_count": null,
      "metadata": {
        "id": "96BfY22kCBHt"
      },
      "outputs": [],
      "source": [
        "PIL.Image.open(f\"/content/data/masktestset/{img_sel}\").resize((500, 300)) # มี files ให้ลอง เปลี่ยนเลข 1 - 4"
      ]
    },
    {
      "cell_type": "markdown",
      "metadata": {
        "id": "n2D_66G3DpI2"
      },
      "source": [
        "## 4.2 เรียก Result จาก Detection โมเดล\n",
        "\n",
        "ไปเอาของตัวเองมาลองก็ได้นะ"
      ]
    },
    {
      "cell_type": "code",
      "execution_count": null,
      "metadata": {
        "id": "DDgLCWSnaEBb"
      },
      "outputs": [],
      "source": [
        "from icevision.models.inference_sahi import IceSahiModel"
      ]
    },
    {
      "cell_type": "markdown",
      "source": [
        "`confidence_threshold` คล้ายๆกับ filter ที่คัดกรอง detection ตามความมั่นใจ (confidence) ของ model"
      ],
      "metadata": {
        "id": "Th06cL6TlviQ"
      }
    },
    {
      "cell_type": "code",
      "execution_count": null,
      "metadata": {
        "id": "6elnv2DTaGAz"
      },
      "outputs": [],
      "source": [
        "sahimodel = IceSahiModel(model_type=model_type, model=model, class_map=parser.class_map, tfms=valid_tfms, confidence_threshold=0.5) #ลองจูนค่า confidence_threshold ได้"
      ]
    },
    {
      "cell_type": "code",
      "execution_count": null,
      "metadata": {
        "id": "XiFndXyAaOxg"
      },
      "outputs": [],
      "source": [
        "pred = sahimodel.get_sliced_prediction(\n",
        "                f\"/content/data/masktestset/{img_sel}\",\n",
        "                keep_sahi_format=False,\n",
        "                return_img=True,\n",
        "                slice_height = 128,\n",
        "                slice_width = 128,\n",
        "                overlap_height_ratio = 0.2,\n",
        "                overlap_width_ratio = 0.2,\n",
        "            )"
      ]
    },
    {
      "cell_type": "markdown",
      "source": [
        "แสดงภาพที่ตีกรอบ detection แล้ว"
      ],
      "metadata": {
        "id": "7Uhcq3nwmWL9"
      }
    },
    {
      "cell_type": "code",
      "execution_count": null,
      "metadata": {
        "id": "gD7PiQRbD3P9"
      },
      "outputs": [],
      "source": [
        "pred[\"img\"]"
      ]
    }
  ],
  "metadata": {
    "accelerator": "GPU",
    "colab": {
      "collapsed_sections": [
        "_Gv1UK5qj6eA"
      ],
      "name": "Editing MASK_Detection_with_icevision_yolov5.ipynb",
      "provenance": [],
      "toc_visible": true,
      "include_colab_link": true
    },
    "kernelspec": {
      "display_name": "Python 3",
      "name": "python3"
    },
    "language_info": {
      "name": "python"
    },
    "gpuClass": "standard"
  },
  "nbformat": 4,
  "nbformat_minor": 0
}